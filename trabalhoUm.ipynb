{
 "cells": [
  {
   "cell_type": "code",
   "execution_count": 1,
   "id": "51c82780-4fa7-4585-a348-909069b80763",
   "metadata": {},
   "outputs": [
    {
     "name": "stdin",
     "output_type": "stream",
     "text": [
      "Informe o n° de elementos [inteiros]: 3\n"
     ]
    },
    {
     "name": "stdout",
     "output_type": "stream",
     "text": [
      "Entre com os elementos do vetor: (use o . para float)\n"
     ]
    },
    {
     "name": "stdin",
     "output_type": "stream",
     "text": [
      "elem : 8\n",
      "elem : 3.5\n",
      "elem : 7\n"
     ]
    },
    {
     "name": "stdout",
     "output_type": "stream",
     "text": [
      "vet:  [8.0, 3.5, 7.0]\n",
      "Conexão aberta\n",
      "Conexão Fechada\n",
      "SOMA 18.5\n"
     ]
    }
   ],
   "source": [
    "#Trabalho um de Programação Paralela e Distribuída\n",
    "#Alunos: Marcus Vinícius Garcia Miguel R.A 2017.1.08.039\n",
    "#       Thiago Henrique dos Reis R.A 2015.1.08.040\n",
    "#        \n",
    "class Somar:\n",
    "    def __init__(self, servidorVet):\n",
    "        self.vet = servidorVet\n",
    "    pass    \n",
    "    def somatorio(self):\n",
    "        soma=0\n",
    "        for numero in self.vet:\n",
    "            soma += numero\n",
    "        return soma\n",
    "    pass \n",
    "    \n",
    "class Servidor:\n",
    "    def __init__(self):\n",
    "        print('Conexão aberta')\n",
    "    pass\n",
    "    def setValor(self, a):\n",
    "        self.a = a\n",
    "    pass\n",
    "    def getSoma (self):\n",
    "        soma= Somar(self.a)\n",
    "        t= soma.somatorio()\n",
    "        return t\n",
    "    pass\n",
    "    def connectOut(self):\n",
    "        print('Conexão Fechada')\n",
    "    pass\n",
    "\n",
    "\n",
    "class Cliente:\n",
    "    \n",
    "    def __init__(self, vet):\n",
    "        self.a = vet\n",
    "    pass\n",
    "    def main (self):\n",
    "        #inicial servidor\n",
    "        c = Servidor()\n",
    "        c.setValor(self.a)\n",
    "        b=c.getSoma()\n",
    "        c.connectOut()\n",
    "        return b\n",
    "    pass \n",
    "    \n",
    "    \n",
    "num_array = list()\n",
    "num = input('Informe o n° de elementos [inteiros]:')\n",
    "print ('Entre com os elementos do vetor: (use o . para float)')\n",
    "for i in range(int(num)):\n",
    "    n = input('elem :')\n",
    "    num_array.append(float(n))\n",
    "print ('vet: ',num_array)\n",
    "cli= Cliente( num_array )\n",
    "c= cli.main()\n",
    "print ('SOMA', c)"
   ]
  }
 ],
 "metadata": {
  "kernelspec": {
   "display_name": "Python 3 (ipykernel)",
   "language": "python",
   "name": "python3"
  },
  "language_info": {
   "codemirror_mode": {
    "name": "ipython",
    "version": 3
   },
   "file_extension": ".py",
   "mimetype": "text/x-python",
   "name": "python",
   "nbconvert_exporter": "python",
   "pygments_lexer": "ipython3",
   "version": "3.8.10"
  }
 },
 "nbformat": 4,
 "nbformat_minor": 5
}
