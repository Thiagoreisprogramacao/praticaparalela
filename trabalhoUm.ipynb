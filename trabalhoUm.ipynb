{
 "cells": [
  {
   "cell_type": "code",
   "execution_count": null,
   "id": "51c82780-4fa7-4585-a348-909069b80763",
   "metadata": {},
   "outputs": [],
   "source": [
    "class Somar:\n",
    "    def __init__(self, servidorVet):\n",
    "        self.vet = servidorVet\n",
    "    pass    \n",
    "    def somatorio(self):\n",
    "        soma=0\n",
    "        for numero in self.vet:\n",
    "            soma += numero\n",
    "        return soma\n",
    "    pass \n",
    "    \n",
    "class Servidor:\n",
    "    def __init__(self):\n",
    "        print('Conexão aberta')\n",
    "    pass\n",
    "    def setValor(self, a):\n",
    "        self.a = a\n",
    "    pass\n",
    "    def getSoma (self):\n",
    "        soma= Somar(self.a)\n",
    "        t= soma.somatorio()\n",
    "        return t\n",
    "    pass\n",
    "    def connectOut(self):\n",
    "        print('Conexão Fechada')\n",
    "    pass\n",
    "\n",
    "\n",
    "class Cliente:\n",
    "    \n",
    "    def __init__(self, vet):\n",
    "        self.a = vet\n",
    "    pass\n",
    "    def main (self):\n",
    "        #inicial servidor\n",
    "        c = Servidor()\n",
    "        c.setValor(self.a)\n",
    "        b=c.getSoma()\n",
    "        c.connectOut()\n",
    "        return b\n",
    "    pass \n",
    "    \n",
    "    \n",
    "num_array = list()\n",
    "num = input('Informe o n° de elementos [inteiros]:')\n",
    "print ('Entre com os elementos do vetor: (use o . para float)')\n",
    "for i in range(int(num)):\n",
    "    n = input('elem :')\n",
    "    num_array.append(float(n))\n",
    "print ('vet: ',num_array)\n",
    "cli= Cliente( num_array )\n",
    "c= cli.main()\n",
    "print ('SOMA', c)"
   ]
  },
  {
   "cell_type": "code",
   "execution_count": null,
   "id": "7b863ad4-b42a-4bfc-9b1e-9fc87a794241",
   "metadata": {},
   "outputs": [],
   "source": []
  },
  {
   "cell_type": "code",
   "execution_count": null,
   "id": "8d7ad4be-e9b5-49c7-bb1d-9653c6b4eb5e",
   "metadata": {},
   "outputs": [],
   "source": [
    "\n"
   ]
  },
  {
   "cell_type": "code",
   "execution_count": null,
   "id": "299680fa-0286-4198-af77-311038076466",
   "metadata": {},
   "outputs": [],
   "source": []
  },
  {
   "cell_type": "code",
   "execution_count": null,
   "id": "312c44e2-e249-428a-8bab-7b5f7af25e9c",
   "metadata": {},
   "outputs": [],
   "source": []
  },
  {
   "cell_type": "code",
   "execution_count": null,
   "id": "bd909ade-1958-479b-bf67-73e51e0dbe02",
   "metadata": {},
   "outputs": [],
   "source": []
  },
  {
   "cell_type": "code",
   "execution_count": null,
   "id": "2c651e90-d8fb-455f-8fda-9b8bb8628db9",
   "metadata": {},
   "outputs": [],
   "source": []
  }
 ],
 "metadata": {
  "kernelspec": {
   "display_name": "Python 3 (ipykernel)",
   "language": "python",
   "name": "python3"
  },
  "language_info": {
   "codemirror_mode": {
    "name": "ipython",
    "version": 3
   },
   "file_extension": ".py",
   "mimetype": "text/x-python",
   "name": "python",
   "nbconvert_exporter": "python",
   "pygments_lexer": "ipython3",
   "version": "3.8.10"
  }
 },
 "nbformat": 4,
 "nbformat_minor": 5
}
